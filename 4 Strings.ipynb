{
 "cells": [
  {
   "cell_type": "markdown",
   "metadata": {},
   "source": [
    "String is a collection of characters.\n",
    "--"
   ]
  },
  {
   "cell_type": "code",
   "execution_count": 2,
   "metadata": {},
   "outputs": [
    {
     "name": "stdout",
     "output_type": "stream",
     "text": [
      "Darshan\n",
      "<class 'str'>\n"
     ]
    }
   ],
   "source": [
    "s=\"Darshan\"\n",
    "# type your code here\n",
    "print(s)\n",
    "print(type(s))"
   ]
  },
  {
   "cell_type": "raw",
   "metadata": {},
   "source": [
    "Both forward and backward indexing work."
   ]
  },
  {
   "cell_type": "code",
   "execution_count": 4,
   "metadata": {},
   "outputs": [
    {
     "data": {
      "text/plain": [
       "'r'"
      ]
     },
     "execution_count": 4,
     "metadata": {},
     "output_type": "execute_result"
    }
   ],
   "source": [
    "s[2]"
   ]
  },
  {
   "cell_type": "code",
   "execution_count": 6,
   "metadata": {},
   "outputs": [
    {
     "name": "stdout",
     "output_type": "stream",
     "text": [
      "D\n",
      "a\n",
      "n\n",
      "D\n",
      "True\n"
     ]
    }
   ],
   "source": [
    "print(s[0])\n",
    "print(s[5])\n",
    "print(s[-1])\n",
    "print(s[-7])\n",
    "print (s[0]==s[-7])\n",
    "# print(s[9]) # error"
   ]
  },
  {
   "cell_type": "code",
   "execution_count": 8,
   "metadata": {},
   "outputs": [
    {
     "name": "stdout",
     "output_type": "stream",
     "text": [
      "ars\n",
      "Darsh\n",
      "shan\n",
      "Dar\n",
      "arsh\n"
     ]
    }
   ],
   "source": [
    "s = \"Darshan\"\n",
    "print(s[1:4])\n",
    "print(s[0:5])\n",
    "print(s[3:])\n",
    "print(s[:3])\n",
    "print(s[-6:-2])"
   ]
  },
  {
   "cell_type": "code",
   "execution_count": 17,
   "metadata": {},
   "outputs": [
    {
     "name": "stdout",
     "output_type": "stream",
     "text": [
      "vshvj\n"
     ]
    }
   ],
   "source": [
    "s1='hvshvjh'\n",
    "s2='134'\n",
    "print(s1.strip('h'))"
   ]
  },
  {
   "cell_type": "code",
   "execution_count": 10,
   "metadata": {},
   "outputs": [
    {
     "name": "stdout",
     "output_type": "stream",
     "text": [
      "Hello WorldMachine Learning\n",
      "arshanarshanarshan\n",
      "mACHINE lEARNING\n",
      "hello world\n",
      "ARSHAN\n",
      "s\n",
      "a\n",
      "False\n",
      "True\n",
      "False\n",
      "False\n",
      "An apple a day keeps the doctor away \n",
      "An apple a day keeps the doctor away.\n",
      "37\n",
      "en epple e dey keeps the doctor ewey \n",
      "Darshan secured = 85\n"
     ]
    }
   ],
   "source": [
    "# Program to demonstarte various string functions\n",
    "s1 = \"Hello World\"\n",
    "s2 = \"Machine Learning\"\n",
    "s3 = \"arshan\"\n",
    "print(s1+s2)\n",
    "print(s3*3)\n",
    "print(s2.swapcase())\n",
    "print(s1.lower())\n",
    "print(s3.upper())\n",
    "print(max(s3))\n",
    "print(min(s3))\n",
    "print(s1.isdigit())\n",
    "print(\"1250\".isdigit())\n",
    "print(\"1250rs\".isdigit())\n",
    "print(s1.isalpha())\n",
    "s4=\"an apple a day keeps the doctor away \"\n",
    "print(s4.capitalize())\n",
    "print(\"aN aPPle A dAY KEEps thE DoctoR awaY.\".capitalize())\n",
    "print(len(s4))\n",
    "print(s4.replace('a','e'))\n",
    "print(\"Darshan secured = 85%\".strip(\"%\"))"
   ]
  },
  {
   "cell_type": "code",
   "execution_count": 6,
   "metadata": {},
   "outputs": [
    {
     "name": "stdout",
     "output_type": "stream",
     "text": [
      "True\n",
      "False\n"
     ]
    }
   ],
   "source": [
    "# 'in' and 'not in' operator\n",
    "s = \"Machine\"\n",
    "print('a' in s)\n",
    "print('a' not in s)"
   ]
  },
  {
   "cell_type": "code",
   "execution_count": 18,
   "metadata": {},
   "outputs": [
    {
     "name": "stdout",
     "output_type": "stream",
     "text": [
      "Darshan"
     ]
    }
   ],
   "source": [
    "# Traversal with for loop\n",
    "st=\"Darshan\"\n",
    "for i in st:\n",
    "    print(i,end=\"\")"
   ]
  },
  {
   "cell_type": "code",
   "execution_count": 19,
   "metadata": {},
   "outputs": [
    {
     "name": "stdout",
     "output_type": "stream",
     "text": [
      "Length=  7\n",
      "D\n",
      "a\n",
      "r\n",
      "s\n",
      "h\n",
      "a\n",
      "n\n"
     ]
    }
   ],
   "source": [
    "# Traversal with while loop\n",
    "# type your code here\n",
    "st = \"Darshan\"\n",
    "print(\"Length= \",len(st))\n",
    "i=0\n",
    "while i<len(st):\n",
    "    print(st[i])\n",
    "    i=i+1"
   ]
  },
  {
   "cell_type": "code",
   "execution_count": 20,
   "metadata": {},
   "outputs": [
    {
     "name": "stdout",
     "output_type": "stream",
     "text": [
      "Darshan\n",
      "D\n"
     ]
    },
    {
     "ename": "TypeError",
     "evalue": "'str' object does not support item assignment",
     "output_type": "error",
     "traceback": [
      "\u001b[1;31m---------------------------------------------------------------------------\u001b[0m",
      "\u001b[1;31mTypeError\u001b[0m                                 Traceback (most recent call last)",
      "\u001b[1;32m<ipython-input-20-e6ff39e8af3b>\u001b[0m in \u001b[0;36m<module>\u001b[1;34m\u001b[0m\n\u001b[0;32m      3\u001b[0m \u001b[0mprint\u001b[0m\u001b[1;33m(\u001b[0m\u001b[0mst\u001b[0m\u001b[1;33m)\u001b[0m\u001b[1;33m\u001b[0m\u001b[1;33m\u001b[0m\u001b[0m\n\u001b[0;32m      4\u001b[0m \u001b[0mprint\u001b[0m\u001b[1;33m(\u001b[0m\u001b[0mst\u001b[0m\u001b[1;33m[\u001b[0m\u001b[1;36m0\u001b[0m\u001b[1;33m]\u001b[0m\u001b[1;33m)\u001b[0m\u001b[1;33m\u001b[0m\u001b[1;33m\u001b[0m\u001b[0m\n\u001b[1;32m----> 5\u001b[1;33m \u001b[0mst\u001b[0m\u001b[1;33m[\u001b[0m\u001b[1;36m0\u001b[0m\u001b[1;33m]\u001b[0m\u001b[1;33m=\u001b[0m\u001b[1;34m\"Y\"\u001b[0m\u001b[1;33m\u001b[0m\u001b[1;33m\u001b[0m\u001b[0m\n\u001b[0m\u001b[0;32m      6\u001b[0m \u001b[0mprint\u001b[0m\u001b[1;33m(\u001b[0m\u001b[0mst\u001b[0m\u001b[1;33m)\u001b[0m\u001b[1;33m\u001b[0m\u001b[1;33m\u001b[0m\u001b[0m\n\u001b[0;32m      7\u001b[0m \u001b[0mprint\u001b[0m\u001b[1;33m(\u001b[0m\u001b[0mst\u001b[0m\u001b[1;33m[\u001b[0m\u001b[1;36m0\u001b[0m\u001b[1;33m]\u001b[0m\u001b[1;33m)\u001b[0m\u001b[1;33m\u001b[0m\u001b[1;33m\u001b[0m\u001b[0m\n",
      "\u001b[1;31mTypeError\u001b[0m: 'str' object does not support item assignment"
     ]
    }
   ],
   "source": [
    "# Strings are immutable, means you cant change an existing string i.e. FIXED\n",
    "st=\"Darshan\"\n",
    "print(st)\n",
    "print(st[0])\n",
    "st[0]=\"Y\"\n",
    "print(st)\n",
    "print(st[0])"
   ]
  },
  {
   "cell_type": "code",
   "execution_count": 16,
   "metadata": {},
   "outputs": [
    {
     "name": "stdout",
     "output_type": "stream",
     "text": [
      "Yarshan\n"
     ]
    }
   ],
   "source": [
    "# Above thing can be achieved with a slight modification\n",
    "st=\"Darshan\"\n",
    "st=\"Y\"+st[1:]\n",
    "print(st)"
   ]
  },
  {
   "cell_type": "code",
   "execution_count": 21,
   "metadata": {},
   "outputs": [
    {
     "data": {
      "text/plain": [
       "1"
      ]
     },
     "execution_count": 21,
     "metadata": {},
     "output_type": "execute_result"
    }
   ],
   "source": [
    "# str.find(str,begin,end)\n",
    "f=\"Doctorate of Philosophy\"\n",
    "f.find('o')"
   ]
  },
  {
   "cell_type": "code",
   "execution_count": 18,
   "metadata": {},
   "outputs": [
    {
     "data": {
      "text/plain": [
       "3"
      ]
     },
     "execution_count": 18,
     "metadata": {},
     "output_type": "execute_result"
    }
   ],
   "source": [
    "f.find('t')"
   ]
  },
  {
   "cell_type": "code",
   "execution_count": 28,
   "metadata": {},
   "outputs": [
    {
     "data": {
      "text/plain": [
       "7"
      ]
     },
     "execution_count": 28,
     "metadata": {},
     "output_type": "execute_result"
    }
   ],
   "source": [
    "f.find('t',4)"
   ]
  },
  {
   "cell_type": "code",
   "execution_count": 29,
   "metadata": {},
   "outputs": [
    {
     "data": {
      "text/plain": [
       "4"
      ]
     },
     "execution_count": 29,
     "metadata": {},
     "output_type": "execute_result"
    }
   ],
   "source": [
    "f.find('o',2,6)"
   ]
  },
  {
   "cell_type": "code",
   "execution_count": 45,
   "metadata": {},
   "outputs": [
    {
     "name": "stdout",
     "output_type": "stream",
     "text": [
      "2\n",
      "-1\n"
     ]
    }
   ],
   "source": [
    "# Program to search specific position of a character in a string\n",
    "def find(st,a):\n",
    "    i=0\n",
    "    while i<len(st):\n",
    "        if st[i]==a:\n",
    "            return i\n",
    "        i=i+1\n",
    "    return -1\n",
    "\n",
    "x=find(\"Darshan\",'r')\n",
    "print(x)\n",
    "x=find(\"Darshan\",'z')\n",
    "print(x)"
   ]
  },
  {
   "cell_type": "code",
   "execution_count": 46,
   "metadata": {},
   "outputs": [
    {
     "name": "stdout",
     "output_type": "stream",
     "text": [
      "2\n",
      "-1\n"
     ]
    }
   ],
   "source": [
    "# Program to search specific position of a character in a string\n",
    "def find(st,a):\n",
    "    yy=0\n",
    "    while yy<len(st):\n",
    "        if st[yy]==a:\n",
    "            return yy\n",
    "        yy=yy+1\n",
    "    return -1\n",
    "\n",
    "x=find(\"Darshan\",'r')\n",
    "print(x)\n",
    "x=find(\"Darshan\",'z')\n",
    "print(x)"
   ]
  },
  {
   "cell_type": "code",
   "execution_count": 44,
   "metadata": {},
   "outputs": [
    {
     "name": "stdout",
     "output_type": "stream",
     "text": [
      "2\n"
     ]
    }
   ],
   "source": [
    "# Program to count the no of times a letter appears in a string\n",
    "def find(t,k):\n",
    "    count=0\n",
    "    for i in t:\n",
    "        if i== k:\n",
    "            count= count+1\n",
    "    return count\n",
    "   \n",
    "\n",
    "l=find(\"raj is a good boy\",'a')\n",
    "print(l)"
   ]
  },
  {
   "cell_type": "code",
   "execution_count": 35,
   "metadata": {},
   "outputs": [
    {
     "name": "stdout",
     "output_type": "stream",
     "text": [
      "3\n",
      "7\n"
     ]
    }
   ],
   "source": [
    "# rfind() will do reverse find\n",
    "f=\"Doctorate of Philosophy\"\n",
    "print(f.find('t'))\n",
    "print(f.rfind('t'))"
   ]
  },
  {
   "cell_type": "code",
   "execution_count": 36,
   "metadata": {},
   "outputs": [
    {
     "data": {
      "text/plain": [
       "True"
      ]
     },
     "execution_count": 36,
     "metadata": {},
     "output_type": "execute_result"
    }
   ],
   "source": [
    "st=\"darshan\"\n",
    "st.isalpha()"
   ]
  },
  {
   "cell_type": "code",
   "execution_count": 51,
   "metadata": {},
   "outputs": [
    {
     "data": {
      "text/plain": [
       "False"
      ]
     },
     "execution_count": 51,
     "metadata": {},
     "output_type": "execute_result"
    }
   ],
   "source": [
    "st=\"darshan\"\n",
    "st.isdigit()"
   ]
  },
  {
   "cell_type": "code",
   "execution_count": 46,
   "metadata": {},
   "outputs": [
    {
     "name": "stdout",
     "output_type": "stream",
     "text": [
      "AAMBAMTAMNAMSAMKAMLAM"
     ]
    }
   ],
   "source": [
    "# Program for string concatenation\n",
    "s1=\"ABTNSKL\"\n",
    "s2=\"AM\"\n",
    "for i in s1:\n",
    "    print(i+s2,end='')"
   ]
  },
  {
   "cell_type": "code",
   "execution_count": 54,
   "metadata": {},
   "outputs": [
    {
     "name": "stdout",
     "output_type": "stream",
     "text": [
      "malayalam  is a palindrome\n"
     ]
    }
   ],
   "source": [
    "# Palindrome\n",
    "s1=\"malayalam\" #try using input()\n",
    "s2=s1[::-1]\n",
    "if s1==s2:\n",
    "    print(s1,\" is a palindrome\")\n",
    "else:\n",
    "    print(s1,\" is not a palindrome\")"
   ]
  },
  {
   "cell_type": "code",
   "execution_count": 38,
   "metadata": {},
   "outputs": [
    {
     "name": "stdout",
     "output_type": "stream",
     "text": [
      "Enter a string to be checked for palindrome:rar\n",
      "rar  is a palindrome\n"
     ]
    }
   ],
   "source": [
    "# Palindrome\n",
    "s1=input(\"Enter a string to be checked for palindrome:\")\n",
    "s2=s1[::-1]\n",
    "if s1==s2:\n",
    "    print(s1,\" is a palindrome\")\n",
    "else:\n",
    "    print(s1,\" is not a palindrome\")"
   ]
  },
  {
   "cell_type": "code",
   "execution_count": null,
   "metadata": {},
   "outputs": [],
   "source": []
  }
 ],
 "metadata": {
  "kernelspec": {
   "display_name": "Python 3",
   "language": "python",
   "name": "python3"
  },
  "language_info": {
   "codemirror_mode": {
    "name": "ipython",
    "version": 3
   },
   "file_extension": ".py",
   "mimetype": "text/x-python",
   "name": "python",
   "nbconvert_exporter": "python",
   "pygments_lexer": "ipython3",
   "version": "3.8.5"
  },
  "toc": {
   "base_numbering": 1,
   "nav_menu": {},
   "number_sections": true,
   "sideBar": true,
   "skip_h1_title": false,
   "title_cell": "Table of Contents",
   "title_sidebar": "Contents",
   "toc_cell": false,
   "toc_position": {},
   "toc_section_display": true,
   "toc_window_display": false
  }
 },
 "nbformat": 4,
 "nbformat_minor": 2
}
