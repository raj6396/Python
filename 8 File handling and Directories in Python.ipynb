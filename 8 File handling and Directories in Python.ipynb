{
 "cells": [
  {
   "cell_type": "markdown",
   "metadata": {},
   "source": [
    "File handling in Python\n",
    "--"
   ]
  },
  {
   "cell_type": "markdown",
   "metadata": {},
   "source": [
    "Python too supports file handling and allows users to handle files i.e., to read and write files, along with many other file handling options, to operate on files. \n",
    "\n",
    "The concept of file handling has stretched over various other languages, but the implementation is either complicated or lengthy, but alike other concepts of Python, this concept here is also easy and short. \n",
    "\n",
    "Python treats file differently as text or binary and this is important. \n",
    "\n",
    "Each line of code includes a sequence of characters and they form text file. Each line of a file is terminated with a special character, called the EOL or End of Line characters like comma {,} or newline character. \n",
    "\n",
    "It ends the current line and tells the interpreter a new one has begun.\n",
    "\n",
    "Since RAM is volatile, which loses its data when computer is turned off, we use files for future use of the data.\n",
    "\n",
    "Files are persistent because they run for a long time, they keep atleast some of the data in permanent storage and if they shut down and restart, they pick up where they left off."
   ]
  },
  {
   "cell_type": "code",
   "execution_count": 27,
   "metadata": {},
   "outputs": [],
   "source": [
    "# “ r “, for reading.\n",
    "# “ w “, for writing.\n",
    "# “ a “, for appending.\n",
    "# “ r+ “, for both reading and writing\n",
    "# Opening a file\n",
    "file=open(\"t1.txt\",'w')\n",
    "file.close()"
   ]
  },
  {
   "cell_type": "code",
   "execution_count": 30,
   "metadata": {},
   "outputs": [],
   "source": [
    "f=open(\"t1.txt\",'w')\n",
    "f.write(\"Hello Dr. Darshan.\\n\")\n",
    "f.write(\"How is the training going on?\\n\")\n",
    "f.close()"
   ]
  },
  {
   "cell_type": "raw",
   "metadata": {},
   "source": [
    "File Object Attributes\n",
    "\n",
    "file.closed - Returns True if the file is closed, false otherwise\n",
    "file.mode - Returns access mode with which the file was opened\n",
    "file.name - Returns name of the file"
   ]
  },
  {
   "cell_type": "code",
   "execution_count": 6,
   "metadata": {},
   "outputs": [
    {
     "name": "stdout",
     "output_type": "stream",
     "text": [
      "False\n",
      "w\n",
      "t1.txt\n",
      "True\n"
     ]
    }
   ],
   "source": [
    "f=open(\"t1.txt\",'w')\n",
    "print(f.closed)\n",
    "print(f.mode)\n",
    "print(f.name)\n",
    "f.write(\"Hello Dr. Darshan.\\n\")\n",
    "f.write(\"How is the training going on?\\n\")\n",
    "f.close()\n",
    "print(f.closed)"
   ]
  },
  {
   "cell_type": "code",
   "execution_count": 7,
   "metadata": {},
   "outputs": [
    {
     "name": "stdout",
     "output_type": "stream",
     "text": [
      "3\n",
      "Data saved to file successfully.\n",
      "True\n"
     ]
    }
   ],
   "source": [
    "a=1\n",
    "b=2\n",
    "c=a+b\n",
    "print(c)\n",
    "str1=\"a=\"+str(a)+\"\\n\"\n",
    "str2=\"b=\"+str(b)+\"\\n\"\n",
    "str3=\"c=\"+str(c)+\"\\n\"\n",
    "f=open(\"t1.txt\",'w')\n",
    "f.write(str1)\n",
    "f.write(str2)\n",
    "f.write(str3)\n",
    "f.close()\n",
    "print(\"Data saved to file successfully.\")\n",
    "print(f.closed)"
   ]
  },
  {
   "cell_type": "code",
   "execution_count": 9,
   "metadata": {},
   "outputs": [
    {
     "name": "stdout",
     "output_type": "stream",
     "text": [
      "a=1\n",
      "b=2\n",
      "c=3\n",
      "\n"
     ]
    }
   ],
   "source": [
    "# File Methods\n",
    "f=open(\"t1.txt\",'r')\n",
    "print(f.read())\n",
    "f.close()"
   ]
  },
  {
   "cell_type": "code",
   "execution_count": 10,
   "metadata": {},
   "outputs": [
    {
     "name": "stdout",
     "output_type": "stream",
     "text": [
      "a=\n"
     ]
    }
   ],
   "source": [
    "f=open(\"t1.txt\",'r')\n",
    "print(f.read(2))\n",
    "f.close()"
   ]
  },
  {
   "cell_type": "code",
   "execution_count": 11,
   "metadata": {},
   "outputs": [
    {
     "name": "stdout",
     "output_type": "stream",
     "text": [
      "a=1\n",
      "\n"
     ]
    }
   ],
   "source": [
    "f=open(\"t1.txt\",'r')\n",
    "print(f.readline())\n",
    "f.close()"
   ]
  },
  {
   "cell_type": "code",
   "execution_count": 12,
   "metadata": {},
   "outputs": [
    {
     "name": "stdout",
     "output_type": "stream",
     "text": [
      "['a=1\\n', 'b=2\\n', 'c=3\\n']\n"
     ]
    }
   ],
   "source": [
    "f=open(\"t1.txt\",'r')\n",
    "print(f.readlines())\n",
    "f.close()"
   ]
  },
  {
   "cell_type": "code",
   "execution_count": 13,
   "metadata": {},
   "outputs": [
    {
     "name": "stdout",
     "output_type": "stream",
     "text": [
      "['a=1\\n', 'b=2\\n', 'c=3\\n']\n",
      "15\n"
     ]
    }
   ],
   "source": [
    "f=open(\"t1.txt\",'r')\n",
    "print(f.readlines())\n",
    "print(f.tell())\n",
    "f.close()"
   ]
  },
  {
   "cell_type": "code",
   "execution_count": 16,
   "metadata": {},
   "outputs": [
    {
     "name": "stdout",
     "output_type": "stream",
     "text": [
      "a=1\n",
      "\n",
      "5\n",
      "b=\n",
      "7\n"
     ]
    }
   ],
   "source": [
    "f=open(\"t1.txt\",'r')\n",
    "print(f.read(4))\n",
    "print(f.tell())\n",
    "print(f.read(2))\n",
    "print(f.tell())\n",
    "f.close()"
   ]
  },
  {
   "cell_type": "code",
   "execution_count": 17,
   "metadata": {
    "scrolled": true
   },
   "outputs": [
    {
     "name": "stdout",
     "output_type": "stream",
     "text": [
      "a=1\n",
      "\n",
      "5\n",
      "b=2\n",
      "\n",
      "10\n"
     ]
    }
   ],
   "source": [
    "f=open(\"t1.txt\",'r')\n",
    "print(f.readline())\n",
    "print(f.tell())\n",
    "print(f.readline())\n",
    "print(f.tell())\n",
    "f.close()"
   ]
  },
  {
   "cell_type": "code",
   "execution_count": 18,
   "metadata": {},
   "outputs": [],
   "source": [
    "f=open(\"t3.txt\",'w')\n",
    "f.write(\"Hello Dr. Darshan.\\n\")\n",
    "f.write(\"How is the training going on?\\n\")\n",
    "f.close()"
   ]
  },
  {
   "cell_type": "code",
   "execution_count": 19,
   "metadata": {},
   "outputs": [],
   "source": [
    "f=open(\"t3.txt\",'a') # append\n",
    "f.write(\"Python is a Programming Language\\n\")\n",
    "f.write(\"We are loving it\\n\")\n",
    "f.close()"
   ]
  },
  {
   "cell_type": "code",
   "execution_count": 20,
   "metadata": {},
   "outputs": [
    {
     "name": "stdout",
     "output_type": "stream",
     "text": [
      "File renamed successfully\n"
     ]
    }
   ],
   "source": [
    "# os.rename(currentname,newname)\n",
    "import os\n",
    "os.rename(\"t3.txt\",\"Darshan.txt\")\n",
    "print(\"File renamed successfully\")"
   ]
  },
  {
   "cell_type": "markdown",
   "metadata": {},
   "source": [
    "Directories/Folders\n",
    "--"
   ]
  },
  {
   "cell_type": "code",
   "execution_count": 24,
   "metadata": {},
   "outputs": [
    {
     "name": "stdout",
     "output_type": "stream",
     "text": [
      "Directory created successfully\n"
     ]
    }
   ],
   "source": [
    "import os\n",
    "os.mkdir(\"Pycharm\")\n",
    "print(\"Directory created successfully\")"
   ]
  },
  {
   "cell_type": "code",
   "execution_count": 22,
   "metadata": {},
   "outputs": [
    {
     "data": {
      "text/plain": [
       "'E:\\\\eBooks\\\\Data_Science\\\\Python\\\\Online_Board Infinity\\\\Students'"
      ]
     },
     "execution_count": 22,
     "metadata": {},
     "output_type": "execute_result"
    }
   ],
   "source": [
    "os.getcwd()\n",
    "# os.chdir(\"path\")"
   ]
  },
  {
   "cell_type": "code",
   "execution_count": 23,
   "metadata": {},
   "outputs": [
    {
     "name": "stdout",
     "output_type": "stream",
     "text": [
      "Directory removed successfully\n"
     ]
    }
   ],
   "source": [
    "import os\n",
    "os.rmdir(\"Pycharm\")\n",
    "print(\"Directory removed successfully\")"
   ]
  },
  {
   "cell_type": "code",
   "execution_count": 25,
   "metadata": {},
   "outputs": [
    {
     "name": "stdout",
     "output_type": "stream",
     "text": [
      "Directory renamed successfully\n"
     ]
    }
   ],
   "source": [
    "os.rename(\"Pycharm\",\"Nocharm\")\n",
    "print(\"Directory renamed successfully\")"
   ]
  },
  {
   "cell_type": "code",
   "execution_count": 26,
   "metadata": {},
   "outputs": [
    {
     "data": {
      "text/plain": [
       "['.ipynb_checkpoints',\n",
       " '1 Python Basics.ipynb',\n",
       " '2 Datatypes, Operators and Looping.ipynb',\n",
       " '3 Functions.ipynb',\n",
       " '4 Strings.ipynb',\n",
       " '5 Lists Tuples.ipynb',\n",
       " '6 Dictionary, Random Module.ipynb',\n",
       " '7 Sets and Arrays in Python.ipynb',\n",
       " '8 File handling and Directories in Python.ipynb',\n",
       " 'BI NB2.ipynb',\n",
       " 'Darshan.txt',\n",
       " 'datasets_n_images',\n",
       " 'Nocharm',\n",
       " 't1.txt']"
      ]
     },
     "execution_count": 26,
     "metadata": {},
     "output_type": "execute_result"
    }
   ],
   "source": [
    "os.listdir()"
   ]
  }
 ],
 "metadata": {
  "kernelspec": {
   "display_name": "Python 3",
   "language": "python",
   "name": "python3"
  },
  "language_info": {
   "codemirror_mode": {
    "name": "ipython",
    "version": 3
   },
   "file_extension": ".py",
   "mimetype": "text/x-python",
   "name": "python",
   "nbconvert_exporter": "python",
   "pygments_lexer": "ipython3",
   "version": "3.8.3"
  },
  "toc": {
   "base_numbering": 1,
   "nav_menu": {},
   "number_sections": true,
   "sideBar": true,
   "skip_h1_title": false,
   "title_cell": "Table of Contents",
   "title_sidebar": "Contents",
   "toc_cell": false,
   "toc_position": {},
   "toc_section_display": true,
   "toc_window_display": false
  }
 },
 "nbformat": 4,
 "nbformat_minor": 2
}
