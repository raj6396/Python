{
 "cells": [
  {
   "cell_type": "markdown",
   "metadata": {},
   "source": [
    "Python Classes and Objects\n",
    "--"
   ]
  },
  {
   "cell_type": "markdown",
   "metadata": {},
   "source": [
    "Python is an object oriented programming language.\n",
    "\n",
    "Almost everything in Python is an object, with its properties and methods.\n",
    "\n",
    "A Class is like an object constructor, or a \"blueprint\" for creating objects."
   ]
  },
  {
   "cell_type": "markdown",
   "metadata": {},
   "source": [
    "Object is anything in the real world that has some unique characteristics.It has state and behavior.\n",
    "eg: Mouse, keyboard, chair, table, etc\n",
    "\n",
    "Class is a collection of objects. It is a logical entity that has some specific attributes and methods.\n",
    "eg: If you have a student class, then it should contain an attribute and method viz name, standard, age, etc"
   ]
  },
  {
   "cell_type": "markdown",
   "metadata": {},
   "source": [
    "Inheritance means one object acquires properties and behavior of the parent object. \n",
    "\n",
    "The new class is known as the Derived class or Child class.\n",
    "\n",
    "And from which inherited the properties is called as Base class or Parent class.\n",
    "\n",
    "Inheritance provides reusability of the code."
   ]
  },
  {
   "cell_type": "markdown",
   "metadata": {},
   "source": [
    "Polymorphism: one object many forms."
   ]
  },
  {
   "cell_type": "markdown",
   "metadata": {},
   "source": [
    "Data Abstraction/Data Hiding"
   ]
  },
  {
   "cell_type": "markdown",
   "metadata": {},
   "source": [
    "Data Encapsulation/ Data Binding"
   ]
  },
  {
   "cell_type": "raw",
   "metadata": {},
   "source": [
    "Class definition\n",
    "\n",
    "class class_name:\n",
    "    stmnt1\n",
    "    stmnt2\n",
    "    stmnt3"
   ]
  },
  {
   "cell_type": "code",
   "execution_count": 12,
   "metadata": {},
   "outputs": [
    {
     "name": "stdout",
     "output_type": "stream",
     "text": [
      "Enter 1st number:15\n",
      "Enter 2nd number:35\n",
      "Addition is: 50.0\n",
      "Enter 1st number:2\n",
      "Enter 2nd number:8\n",
      "Addition is: 10.0\n"
     ]
    }
   ],
   "source": [
    "# Program to write simple class demonstration\n",
    "class abc:   \n",
    "    def show(self,a,b):        \n",
    "        print(\"Addition is:\",a+b)\n",
    "\n",
    "a = float(input(\"Enter 1st number:\"))\n",
    "b = float(input(\"Enter 2nd number:\"))\n",
    "s = abc()\n",
    "s.show(a,b)\n",
    "\n",
    "a = float(input(\"Enter 1st number:\"))\n",
    "b = float(input(\"Enter 2nd number:\"))\n",
    "t = abc()\n",
    "t.show(a,b)"
   ]
  },
  {
   "cell_type": "markdown",
   "metadata": {},
   "source": [
    "self attribute\n",
    "--\n",
    "\n",
    ">The first argument of every class method is always a reference to the current instance of the class.\n",
    "\n",
    ">By convention, this argument is always named 'self'.\n",
    "\n",
    ">It is a part of Python syntax to access members of objects.\n",
    "\n",
    ">__However, self is not a reserved keyword in Python, it is just a strong convention.__"
   ]
  },
  {
   "cell_type": "markdown",
   "metadata": {},
   "source": [
    "Private variables\n",
    "--\n",
    "\n",
    ">Private means the attributes are only available for the members of the class not outside of the class.\n",
    "\n",
    ">A private variable can only be changed within a class method, and not outside of the class.\n",
    "\n",
    ">In Python, private variables begin with double underscores __\n",
    "\n",
    ">Unlike other programming languages, Python private variables are not strict, they can be accessed outside of the class."
   ]
  },
  {
   "cell_type": "code",
   "execution_count": 14,
   "metadata": {},
   "outputs": [
    {
     "name": "stdout",
     "output_type": "stream",
     "text": [
      "Hello from class\n",
      "2\n"
     ]
    },
    {
     "ename": "AttributeError",
     "evalue": "'abc' object has no attribute '__v'",
     "output_type": "error",
     "traceback": [
      "\u001b[1;31m---------------------------------------------------------------------------\u001b[0m",
      "\u001b[1;31mAttributeError\u001b[0m                            Traceback (most recent call last)",
      "\u001b[1;32m<ipython-input-14-3d2bc2c9d566>\u001b[0m in \u001b[0;36m<module>\u001b[1;34m\u001b[0m\n\u001b[0;32m      9\u001b[0m \u001b[0ms\u001b[0m\u001b[1;33m.\u001b[0m\u001b[0mshow\u001b[0m\u001b[1;33m(\u001b[0m\u001b[1;33m)\u001b[0m\u001b[1;33m\u001b[0m\u001b[1;33m\u001b[0m\u001b[0m\n\u001b[0;32m     10\u001b[0m \u001b[0mprint\u001b[0m\u001b[1;33m(\u001b[0m\u001b[0ms\u001b[0m\u001b[1;33m.\u001b[0m\u001b[0my\u001b[0m\u001b[1;33m)\u001b[0m\u001b[1;33m\u001b[0m\u001b[1;33m\u001b[0m\u001b[0m\n\u001b[1;32m---> 11\u001b[1;33m \u001b[0mprint\u001b[0m\u001b[1;33m(\u001b[0m\u001b[0ms\u001b[0m\u001b[1;33m.\u001b[0m\u001b[0m__v\u001b[0m\u001b[1;33m)\u001b[0m\u001b[1;33m\u001b[0m\u001b[1;33m\u001b[0m\u001b[0m\n\u001b[0m",
      "\u001b[1;31mAttributeError\u001b[0m: 'abc' object has no attribute '__v'"
     ]
    }
   ],
   "source": [
    "# Program to use private variables\n",
    "class abc:\n",
    "    y = 2 # y is instance variable\n",
    "    __v = 4 # v is a private variable\n",
    "    def show(self):\n",
    "        print(\"Hello from class\")\n",
    "\n",
    "s = abc()\n",
    "s.show()\n",
    "print(s.y)\n",
    "print(s.__v)"
   ]
  },
  {
   "cell_type": "markdown",
   "metadata": {},
   "source": [
    "Instances as arguments\n",
    "--\n",
    "\n",
    "The class instance variables are always prefixed with reserved word 'self' and typically initialized in a constructor method named __init__"
   ]
  },
  {
   "cell_type": "code",
   "execution_count": 17,
   "metadata": {},
   "outputs": [
    {
     "name": "stdout",
     "output_type": "stream",
     "text": [
      "Hi I am the Constructor\n",
      "Bye from Constructor\n",
      "Hi from show.\n"
     ]
    }
   ],
   "source": [
    "class xyz:\n",
    "    def __init__(self):\n",
    "        print(\"Hi I am the Constructor\")\n",
    "        print(\"Bye from Constructor\")\n",
    "    def show(self):\n",
    "        print(\"Hi from show.\")\n",
    "\n",
    "s = xyz()\n",
    "s.show()"
   ]
  },
  {
   "cell_type": "code",
   "execution_count": 19,
   "metadata": {},
   "outputs": [
    {
     "name": "stdout",
     "output_type": "stream",
     "text": [
      "Hi I am the Constructor\n",
      "15\n",
      "Bye from Constructor\n",
      "Hi from show.\n"
     ]
    }
   ],
   "source": [
    "class xyz:\n",
    "    def __init__(self,n):\n",
    "        print(\"Hi I am the Constructor\")\n",
    "        print(n)\n",
    "        print(\"Bye from Constructor\")\n",
    "    def show(self):\n",
    "        print(\"Hi from show.\")\n",
    "\n",
    "s = xyz(15)\n",
    "s.show()"
   ]
  },
  {
   "cell_type": "code",
   "execution_count": 20,
   "metadata": {},
   "outputs": [
    {
     "name": "stdout",
     "output_type": "stream",
     "text": [
      "15\n",
      "16\n",
      "Hi from show.\n"
     ]
    }
   ],
   "source": [
    "class xyz:\n",
    "    def __init__(self,n):\n",
    "        n1 = n+1\n",
    "        print(n)\n",
    "        print(n1)\n",
    "    def show(self):\n",
    "        print(\"Hi from show.\")\n",
    "\n",
    "s = xyz(15)\n",
    "s.show()"
   ]
  },
  {
   "cell_type": "code",
   "execution_count": 21,
   "metadata": {},
   "outputs": [
    {
     "name": "stdout",
     "output_type": "stream",
     "text": [
      "15\n",
      "16\n",
      "Hi from show.\n"
     ]
    }
   ],
   "source": [
    "class xyz:\n",
    "    def __init__(self,n):\n",
    "        self.n1 = n+1\n",
    "        print(n)\n",
    "        print(self.n1)\n",
    "    def show(self):\n",
    "        print(\"Hi from show.\")\n",
    "\n",
    "s = xyz(15)\n",
    "s.show()"
   ]
  },
  {
   "cell_type": "code",
   "execution_count": 22,
   "metadata": {},
   "outputs": [
    {
     "name": "stdout",
     "output_type": "stream",
     "text": [
      "15\n",
      "16\n",
      "Hi from show.\n"
     ]
    }
   ],
   "source": [
    "class xyz:\n",
    "    def __init__(self,n):\n",
    "        self.n = n+1\n",
    "        print(n)\n",
    "        print(self.n)\n",
    "    def show(self):\n",
    "        print(\"Hi from show.\")\n",
    "\n",
    "s = xyz(15)\n",
    "s.show()"
   ]
  },
  {
   "cell_type": "code",
   "execution_count": null,
   "metadata": {},
   "outputs": [],
   "source": [
    "\n",
    "\n",
    "\n"
   ]
  },
  {
   "cell_type": "markdown",
   "metadata": {},
   "source": [
    "Instances a return values\n",
    "--\n",
    "\n",
    "In Python, methods and functions can return class instances."
   ]
  },
  {
   "cell_type": "code",
   "execution_count": 23,
   "metadata": {},
   "outputs": [
    {
     "data": {
      "text/plain": [
       "7"
      ]
     },
     "execution_count": 23,
     "metadata": {},
     "output_type": "execute_result"
    }
   ],
   "source": [
    "# Program to use instances as return values\n",
    "class st:\n",
    "    def add(self,a,b):\n",
    "        self.a=a\n",
    "        self.b=b\n",
    "        return self.a+self.b\n",
    "\n",
    "s=st()\n",
    "s.add(4,3)"
   ]
  },
  {
   "cell_type": "code",
   "execution_count": 25,
   "metadata": {},
   "outputs": [
    {
     "name": "stdout",
     "output_type": "stream",
     "text": [
      "4\n",
      "3\n"
     ]
    }
   ],
   "source": [
    "# Program to use instances as return values using __init__\n",
    "class st:\n",
    "    def __init__(self,a,b):\n",
    "        self.a=a\n",
    "        self.b=b\n",
    "s=st(4,3)\n",
    "print(s.a)\n",
    "print(s.b)"
   ]
  },
  {
   "cell_type": "markdown",
   "metadata": {},
   "source": [
    "__del__()\n",
    "--\n",
    "\n",
    "It is used when you want to destroy an instance of the class which is no longer referenced.\n",
    "\n"
   ]
  },
  {
   "cell_type": "code",
   "execution_count": 26,
   "metadata": {},
   "outputs": [
    {
     "name": "stdout",
     "output_type": "stream",
     "text": [
      "Hello Darshan\n",
      "Hello Python\n"
     ]
    }
   ],
   "source": [
    "# Program to delete object of a class.\n",
    "\n",
    "class abc:\n",
    "    def __init__(self,n):\n",
    "        print(\"Hello\",n)\n",
    "    def __del__(self):\n",
    "        print(\"Object deleted.\")\n",
    "s1=abc(\"Darshan\")\n",
    "s2=abc(\"Python\")"
   ]
  },
  {
   "cell_type": "markdown",
   "metadata": {},
   "source": [
    "Inheritance\n",
    "--"
   ]
  },
  {
   "cell_type": "raw",
   "metadata": {},
   "source": [
    "Syntax:\n",
    "class base_class:\n",
    "    stmnts\n",
    "class derived_class:\n",
    "    stmnts"
   ]
  },
  {
   "cell_type": "code",
   "execution_count": 30,
   "metadata": {},
   "outputs": [
    {
     "name": "stdout",
     "output_type": "stream",
     "text": [
      "Derived class here!!!!\n",
      "I am the Base class!!!\n",
      "I am the Base class!!!\n"
     ]
    },
    {
     "ename": "AttributeError",
     "evalue": "'A' object has no attribute 's2'",
     "output_type": "error",
     "traceback": [
      "\u001b[1;31m---------------------------------------------------------------------------\u001b[0m",
      "\u001b[1;31mAttributeError\u001b[0m                            Traceback (most recent call last)",
      "\u001b[1;32m<ipython-input-30-8d738a1e4dae>\u001b[0m in \u001b[0;36m<module>\u001b[1;34m\u001b[0m\n\u001b[0;32m     15\u001b[0m \u001b[0mfather\u001b[0m \u001b[1;33m=\u001b[0m \u001b[0mA\u001b[0m\u001b[1;33m(\u001b[0m\u001b[1;33m)\u001b[0m\u001b[1;33m\u001b[0m\u001b[1;33m\u001b[0m\u001b[0m\n\u001b[0;32m     16\u001b[0m \u001b[0mfather\u001b[0m\u001b[1;33m.\u001b[0m\u001b[0ms1\u001b[0m\u001b[1;33m(\u001b[0m\u001b[1;33m)\u001b[0m\u001b[1;33m\u001b[0m\u001b[1;33m\u001b[0m\u001b[0m\n\u001b[1;32m---> 17\u001b[1;33m \u001b[0mfather\u001b[0m\u001b[1;33m.\u001b[0m\u001b[0ms2\u001b[0m\u001b[1;33m(\u001b[0m\u001b[1;33m)\u001b[0m\u001b[1;33m\u001b[0m\u001b[1;33m\u001b[0m\u001b[0m\n\u001b[0m",
      "\u001b[1;31mAttributeError\u001b[0m: 'A' object has no attribute 's2'"
     ]
    }
   ],
   "source": [
    "# Program to use single inheritance\n",
    "\n",
    "class A:\n",
    "    def s1(self):\n",
    "        print(\"I am the Base class!!!\")\n",
    "        \n",
    "class B(A):\n",
    "    def s2(self):\n",
    "        print(\"Derived class here!!!!\")\n",
    "\n",
    "o = B()\n",
    "o.s2()\n",
    "o.s1()\n",
    "\n",
    "father = A()\n",
    "father.s1()\n",
    "father.s2()"
   ]
  },
  {
   "cell_type": "raw",
   "metadata": {},
   "source": [
    "Multiple Inheritance in Python\n",
    "\n",
    "Base1,Base2 -> Derived"
   ]
  },
  {
   "cell_type": "code",
   "execution_count": 31,
   "metadata": {},
   "outputs": [
    {
     "name": "stdout",
     "output_type": "stream",
     "text": [
      "num1:  7\n",
      "num2:  10\n",
      "17\n"
     ]
    }
   ],
   "source": [
    "# Program to use Multiple inheritance\n",
    "class st1:\n",
    "    def num1(self):\n",
    "        self.n1=7\n",
    "        print(\"num1: \",self.n1)\n",
    "class st2:\n",
    "    def num2(self):\n",
    "        self.n2=10\n",
    "        print(\"num2: \",self.n2)\n",
    "\n",
    "class st(st1,st2):\n",
    "    def add(self):\n",
    "        return self.n1+self.n2\n",
    "  \n",
    "s=st()\n",
    "s.num1()\n",
    "s.num2()\n",
    "print(s.add())"
   ]
  }
 ],
 "metadata": {
  "kernelspec": {
   "display_name": "Python 3",
   "language": "python",
   "name": "python3"
  },
  "language_info": {
   "codemirror_mode": {
    "name": "ipython",
    "version": 3
   },
   "file_extension": ".py",
   "mimetype": "text/x-python",
   "name": "python",
   "nbconvert_exporter": "python",
   "pygments_lexer": "ipython3",
   "version": "3.8.3"
  },
  "toc": {
   "base_numbering": 1,
   "nav_menu": {},
   "number_sections": true,
   "sideBar": true,
   "skip_h1_title": false,
   "title_cell": "Table of Contents",
   "title_sidebar": "Contents",
   "toc_cell": false,
   "toc_position": {},
   "toc_section_display": true,
   "toc_window_display": false
  }
 },
 "nbformat": 4,
 "nbformat_minor": 2
}
