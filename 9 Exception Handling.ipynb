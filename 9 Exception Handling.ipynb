{
 "cells": [
  {
   "cell_type": "markdown",
   "metadata": {},
   "source": [
    ">Exception is an abnormal condition in a program.\n",
    "\n",
    ">It is a run time error.\n",
    "\n",
    ">If we raise an exception, we can prevent the program from crashing."
   ]
  },
  {
   "cell_type": "markdown",
   "metadata": {},
   "source": [
    "Built-in Exceptions for Python\n",
    "--\n",
    "\n",
    "Exception - Base class for all exceptions\n",
    "\n",
    "ArithmeticError - numeric caluclations\n",
    "\n",
    "OverflowError - maximum limit for numeric type\n",
    "\n",
    "ZeroDivisionError - divide by zero\n",
    "\n",
    "ImportError - when import fails\n",
    "\n",
    "KeyboardInterrupt - usually when the user interrupts the program execution by pressing Ctrl+c\n",
    "\n",
    "IndexError - index not found in the sequence\n",
    "\n",
    "KeyError - key not found in the sequence\n",
    "\n",
    "OSError - OS related errors\n",
    "\n",
    "ValueError, TypeError and so on."
   ]
  },
  {
   "cell_type": "code",
   "execution_count": 6,
   "metadata": {},
   "outputs": [
    {
     "name": "stdout",
     "output_type": "stream",
     "text": [
      "Enter 1st number:a\n"
     ]
    },
    {
     "ename": "ValueError",
     "evalue": "could not convert string to float: 'a'",
     "output_type": "error",
     "traceback": [
      "\u001b[1;31m---------------------------------------------------------------------------\u001b[0m",
      "\u001b[1;31mValueError\u001b[0m                                Traceback (most recent call last)",
      "\u001b[1;32m<ipython-input-6-44f6ab526804>\u001b[0m in \u001b[0;36m<module>\u001b[1;34m\u001b[0m\n\u001b[1;32m----> 1\u001b[1;33m \u001b[0ma\u001b[0m\u001b[1;33m=\u001b[0m\u001b[0mfloat\u001b[0m\u001b[1;33m(\u001b[0m\u001b[0minput\u001b[0m\u001b[1;33m(\u001b[0m\u001b[1;34m\"Enter 1st number:\"\u001b[0m\u001b[1;33m)\u001b[0m\u001b[1;33m)\u001b[0m\u001b[1;33m\u001b[0m\u001b[1;33m\u001b[0m\u001b[0m\n\u001b[0m\u001b[0;32m      2\u001b[0m \u001b[0mb\u001b[0m\u001b[1;33m=\u001b[0m\u001b[0mfloat\u001b[0m\u001b[1;33m(\u001b[0m\u001b[0minput\u001b[0m\u001b[1;33m(\u001b[0m\u001b[1;34m\"Enter 2nd number:\"\u001b[0m\u001b[1;33m)\u001b[0m\u001b[1;33m)\u001b[0m\u001b[1;33m\u001b[0m\u001b[1;33m\u001b[0m\u001b[0m\n\u001b[0;32m      3\u001b[0m \u001b[0mc\u001b[0m\u001b[1;33m=\u001b[0m\u001b[0ma\u001b[0m\u001b[1;33m/\u001b[0m\u001b[0mb\u001b[0m\u001b[1;33m\u001b[0m\u001b[1;33m\u001b[0m\u001b[0m\n\u001b[0;32m      4\u001b[0m \u001b[0mprint\u001b[0m\u001b[1;33m(\u001b[0m\u001b[1;34m\"Division of a=\"\u001b[0m\u001b[1;33m,\u001b[0m\u001b[0ma\u001b[0m\u001b[1;33m,\u001b[0m\u001b[1;34m\"and b=\"\u001b[0m\u001b[1;33m,\u001b[0m\u001b[0mb\u001b[0m\u001b[1;33m,\u001b[0m\u001b[1;34m\"is c=\"\u001b[0m\u001b[1;33m,\u001b[0m\u001b[0mround\u001b[0m\u001b[1;33m(\u001b[0m\u001b[0mc\u001b[0m\u001b[1;33m,\u001b[0m\u001b[1;36m2\u001b[0m\u001b[1;33m)\u001b[0m\u001b[1;33m)\u001b[0m\u001b[1;33m\u001b[0m\u001b[1;33m\u001b[0m\u001b[0m\n",
      "\u001b[1;31mValueError\u001b[0m: could not convert string to float: 'a'"
     ]
    }
   ],
   "source": [
    "a=float(input(\"Enter 1st number:\"))\n",
    "b=float(input(\"Enter 2nd number:\"))\n",
    "c=a/b\n",
    "print(\"Division of a=\",a,\"and b=\",b,\"is c=\",round(c,2))"
   ]
  },
  {
   "cell_type": "code",
   "execution_count": 11,
   "metadata": {},
   "outputs": [
    {
     "name": "stdout",
     "output_type": "stream",
     "text": [
      "Enter 1st number:6\n",
      "Enter 2nd number:a\n",
      "Something is wrong. Please try again.\n",
      "Enter 1st number:8\n",
      "Enter 2nd number:0\n",
      "Something is wrong. Please try again.\n",
      "Enter 1st number:8\n",
      "Enter 2nd number:2\n",
      "Division of a= 8.0 and b= 2.0 is c= 4.0\n"
     ]
    }
   ],
   "source": [
    "while True:\n",
    "    try:\n",
    "        a=float(input(\"Enter 1st number:\"))\n",
    "        b=float(input(\"Enter 2nd number:\"))\n",
    "        c=a/b\n",
    "        print(\"Division of a=\",a,\"and b=\",b,\"is c=\",round(c,2))\n",
    "        break\n",
    "    except Exception:\n",
    "        print(\"Something is wrong. Please try again.\")"
   ]
  },
  {
   "cell_type": "code",
   "execution_count": 15,
   "metadata": {},
   "outputs": [
    {
     "name": "stdout",
     "output_type": "stream",
     "text": [
      "Enter 1st number:5\n",
      "Enter 2nd number:0\n",
      "2nd input cannot be zero. Please try again.\n",
      "Enter 1st number:pp\n",
      "Input must be a number. Please try again.\n",
      "Enter 1st number:9\n",
      "Enter 2nd number:kghj\n",
      "Input must be a number. Please try again.\n",
      "Enter 1st number:*-*-\n",
      "Input must be a number. Please try again.\n",
      "Enter 1st number:8\n",
      "Enter 2nd number:9\n",
      "Division of a= 8.0 and b= 9.0 is c= 0.89\n"
     ]
    }
   ],
   "source": [
    "while True:\n",
    "    try:\n",
    "        a=float(input(\"Enter 1st number:\"))\n",
    "        b=float(input(\"Enter 2nd number:\"))\n",
    "        c=a/b\n",
    "        print(\"Division of a=\",a,\"and b=\",b,\"is c=\",round(c,2))\n",
    "        break\n",
    "    except ZeroDivisionError:\n",
    "        print(\"2nd input cannot be zero. Please try again.\")\n",
    "    except ValueError:\n",
    "        print(\"Input must be a number. Please try again.\")"
   ]
  },
  {
   "cell_type": "markdown",
   "metadata": {},
   "source": [
    "try - except\n",
    "--"
   ]
  },
  {
   "cell_type": "code",
   "execution_count": null,
   "metadata": {
    "scrolled": true
   },
   "outputs": [],
   "source": [
    "\n",
    "\n",
    "\n"
   ]
  },
  {
   "cell_type": "code",
   "execution_count": null,
   "metadata": {},
   "outputs": [],
   "source": [
    "\n",
    "\n",
    "\n"
   ]
  },
  {
   "cell_type": "markdown",
   "metadata": {},
   "source": [
    "try - except - else\n",
    "--"
   ]
  },
  {
   "cell_type": "code",
   "execution_count": 21,
   "metadata": {},
   "outputs": [
    {
     "name": "stdout",
     "output_type": "stream",
     "text": [
      "Enter 1st number:8\n",
      "Enter 2nd number:2\n",
      "Division of a= 8.0 and b= 2.0 is c= 4.0\n"
     ]
    }
   ],
   "source": [
    "    try:\n",
    "        a=float(input(\"Enter 1st number:\"))\n",
    "        b=float(input(\"Enter 2nd number:\"))\n",
    "        c=a/b\n",
    "    except ZeroDivisionError:\n",
    "        print(\"2nd input cannot be zero. Please try again.\")\n",
    "    except ValueError:\n",
    "        print(\"Input must be a number. Please try again.\")\n",
    "    else:\n",
    "        print(\"Division of a=\",a,\"and b=\",b,\"is c=\",round(c,2))"
   ]
  },
  {
   "cell_type": "code",
   "execution_count": 22,
   "metadata": {},
   "outputs": [
    {
     "name": "stdout",
     "output_type": "stream",
     "text": [
      "Enter 1st number:r\n",
      "Input must be a number. Please try again.\n",
      "Enter 1st number:6\n",
      "Enter 2nd number:u\n",
      "Input must be a number. Please try again.\n",
      "Enter 1st number:24\n",
      "Enter 2nd number:0\n",
      "2nd input cannot be zero. Please try again.\n",
      "Enter 1st number:7\n",
      "Enter 2nd number:4\n",
      "Division of a= 7.0 and b= 4.0 is c= 1.75\n"
     ]
    }
   ],
   "source": [
    "while True:\n",
    "    try:\n",
    "        a=float(input(\"Enter 1st number:\"))\n",
    "        b=float(input(\"Enter 2nd number:\"))\n",
    "        c=a/b\n",
    "    except ZeroDivisionError:\n",
    "        print(\"2nd input cannot be zero. Please try again.\")\n",
    "    except ValueError:\n",
    "        print(\"Input must be a number. Please try again.\")\n",
    "    except Exception:\n",
    "        print(\"Something is wrong. Please try again.\")\n",
    "    else:\n",
    "        print(\"Division of a=\",a,\"and b=\",b,\"is c=\",round(c,2))\n",
    "        break"
   ]
  },
  {
   "cell_type": "code",
   "execution_count": 26,
   "metadata": {},
   "outputs": [
    {
     "name": "stdout",
     "output_type": "stream",
     "text": [
      "Enter a no: 6\n",
      "Answer is:  16.666666666666668\n"
     ]
    }
   ],
   "source": [
    "try:\n",
    "    x=int(input(\"Enter a no: \"))\n",
    "    ans=100/x\n",
    "except ValueError:\n",
    "    print(\"Value is not int type\")\n",
    "except ZeroDivisionError:\n",
    "    print(\"Dont use a zero.\")\n",
    "else:\n",
    "    print(\"Answer is: \",ans)"
   ]
  },
  {
   "cell_type": "markdown",
   "metadata": {},
   "source": [
    "except with multiple attributes\n",
    "--"
   ]
  },
  {
   "cell_type": "code",
   "execution_count": 29,
   "metadata": {},
   "outputs": [
    {
     "name": "stdout",
     "output_type": "stream",
     "text": [
      "Enter a no: darshan\n",
      "Something is wrong. Please try again\n"
     ]
    }
   ],
   "source": [
    "try:\n",
    "    x=int(input(\"Enter a no: \"))\n",
    "    ans=100/x\n",
    "except (ValueError,ZeroDivisionError):\n",
    "    print(\"Something is wrong. Please try again\")\n",
    "else:\n",
    "    print(\"Answer is: \",ans)"
   ]
  },
  {
   "cell_type": "markdown",
   "metadata": {},
   "source": [
    "try - finally\n",
    "--"
   ]
  },
  {
   "cell_type": "code",
   "execution_count": 35,
   "metadata": {},
   "outputs": [
    {
     "name": "stdout",
     "output_type": "stream",
     "text": [
      "Enter a no: darshan\n",
      "Value is not int type\n",
      "End of Program.\n",
      "By hook or crook, I will be executed for sure.\n"
     ]
    }
   ],
   "source": [
    "try:\n",
    "    x=int(input(\"Enter a no: \"))\n",
    "    ans=100/x\n",
    "except ValueError:\n",
    "    print(\"Value is not int type\")\n",
    "except ZeroDivisionError:\n",
    "    print(\"Dont use a zero.\")\n",
    "else:\n",
    "    print(\"Answer is: \",ans)\n",
    "finally:\n",
    "    print(\"End of Program.\")\n",
    "    print(\"By hook or crook, I will be executed for sure.\")"
   ]
  },
  {
   "cell_type": "markdown",
   "metadata": {},
   "source": [
    "finally with multiple except\n",
    "--"
   ]
  },
  {
   "cell_type": "code",
   "execution_count": null,
   "metadata": {},
   "outputs": [],
   "source": [
    "try:\n",
    "    x=int(input(\"Enter a no: \"))\n",
    "    ans=100/x\n",
    "except (ValueError,ZeroDivisionError):\n",
    "    print(\"Something is wrong. Please try again\")\n",
    "else:\n",
    "    print(\"Answer is: \",ans)\n",
    "finally:\n",
    "    print(\"End of Program.\")\n",
    "    print(\"By hook or crook, I will be executed for sure.\")"
   ]
  },
  {
   "cell_type": "markdown",
   "metadata": {},
   "source": [
    "raising exceptions\n",
    "--"
   ]
  },
  {
   "cell_type": "code",
   "execution_count": 40,
   "metadata": {},
   "outputs": [
    {
     "name": "stdout",
     "output_type": "stream",
     "text": [
      "Enter a number:2\n",
      "An IO Exception is raised\n"
     ]
    }
   ],
   "source": [
    "val = int(input(\"Enter a number:\"))\n",
    "try:\n",
    "    if val==2:\n",
    "        raise IOError\n",
    "    else:\n",
    "        print(\"Value is not 2\")\n",
    "except IOError:\n",
    "    print(\"An IO Exception is raised\")"
   ]
  },
  {
   "cell_type": "markdown",
   "metadata": {},
   "source": [
    "exception with arguments\n",
    "--"
   ]
  },
  {
   "cell_type": "code",
   "execution_count": 47,
   "metadata": {},
   "outputs": [
    {
     "name": "stdout",
     "output_type": "stream",
     "text": [
      "Enter a no: darshan\n",
      "Exception caught is: invalid literal for int() with base 10: 'darshan'\n",
      "Type of the exception which is caught is: <class 'ValueError'>\n"
     ]
    }
   ],
   "source": [
    "try:\n",
    "    x=int(input(\"Enter a no: \"))\n",
    "    ans=100/x\n",
    "except Exception as e:\n",
    "    print(\"Exception caught is:\",e)\n",
    "    print(\"Type of the exception which is caught is:\",type(e))\n",
    "else:\n",
    "    print(\"Answer is: \",ans)"
   ]
  }
 ],
 "metadata": {
  "kernelspec": {
   "display_name": "Python 3",
   "language": "python",
   "name": "python3"
  },
  "language_info": {
   "codemirror_mode": {
    "name": "ipython",
    "version": 3
   },
   "file_extension": ".py",
   "mimetype": "text/x-python",
   "name": "python",
   "nbconvert_exporter": "python",
   "pygments_lexer": "ipython3",
   "version": "3.8.3"
  },
  "toc": {
   "base_numbering": 1,
   "nav_menu": {},
   "number_sections": true,
   "sideBar": true,
   "skip_h1_title": false,
   "title_cell": "Table of Contents",
   "title_sidebar": "Contents",
   "toc_cell": false,
   "toc_position": {},
   "toc_section_display": true,
   "toc_window_display": false
  }
 },
 "nbformat": 4,
 "nbformat_minor": 2
}
